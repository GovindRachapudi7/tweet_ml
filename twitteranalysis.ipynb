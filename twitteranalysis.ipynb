{
  "nbformat": 4,
  "nbformat_minor": 0,
  "metadata": {
    "colab": {
      "provenance": []
    },
    "kernelspec": {
      "name": "python3",
      "display_name": "Python 3"
    },
    "language_info": {
      "name": "python"
    }
  },
  "cells": [
    {
      "cell_type": "code",
      "execution_count": 1,
      "metadata": {
        "colab": {
          "base_uri": "https://localhost:8080/"
        },
        "id": "yBkAq2pZ5Y-S",
        "outputId": "0ff64436-d771-4b81-fa65-f1d8ee95bc84"
      },
      "outputs": [
        {
          "output_type": "stream",
          "name": "stdout",
          "text": [
            "Mounted at /content/gdrive\n"
          ]
        }
      ],
      "source": [
        "# connect to google drive\n",
        "from google.colab import drive\n",
        "drive.mount(\"/content/gdrive\", force_remount = True)"
      ]
    },
    {
      "cell_type": "code",
      "source": [
        "# import pandas into session as pd\n",
        "import pandas as pd"
      ],
      "metadata": {
        "id": "PDh8jUee53BA"
      },
      "execution_count": 2,
      "outputs": []
    },
    {
      "cell_type": "code",
      "source": [
        "# read file from folder\n",
        "df = pd.read_csv('/content/gdrive/MyDrive/datasets for python/tweetsdata.csv')"
      ],
      "metadata": {
        "id": "a90v0b7n5iEJ"
      },
      "execution_count": 4,
      "outputs": []
    },
    {
      "cell_type": "code",
      "source": [
        "# view file\n",
        "df"
      ],
      "metadata": {
        "colab": {
          "base_uri": "https://localhost:8080/",
          "height": 614
        },
        "id": "9kKPOm1r5_I8",
        "outputId": "3e798a3b-9cad-451e-cabb-019a6478272d"
      },
      "execution_count": 10,
      "outputs": [
        {
          "output_type": "execute_result",
          "data": {
            "text/plain": [
              "       Unnamed: 0                                          Situation  \\\n",
              "0               0  I remember going to the fireworks with my best...   \n",
              "1               1  I remember going to the fireworks with my best...   \n",
              "2               2  I remember going to the fireworks with my best...   \n",
              "3               3  I remember going to the fireworks with my best...   \n",
              "4               4  I remember going to the fireworks with my best...   \n",
              "...           ...                                                ...   \n",
              "64631       64631  I found some pictures of my grandma in the att...   \n",
              "64632       64632  I found some pictures of my grandma in the att...   \n",
              "64633       64633  I woke up this morning to my wife telling me s...   \n",
              "64634       64634  I woke up this morning to my wife telling me s...   \n",
              "64635       64635  I woke up this morning to my wife telling me s...   \n",
              "\n",
              "           emotion                               empathetic_dialogues  \\\n",
              "0      sentimental  Customer :I remember going to see the firework...   \n",
              "1      sentimental  Customer :This was a best friend. I miss her.\\...   \n",
              "2      sentimental              Customer :We no longer talk.\\nAgent :   \n",
              "3      sentimental  Customer :Was this a friend you were in love w...   \n",
              "4      sentimental             Customer :Where has she gone?\\nAgent :   \n",
              "...            ...                                                ...   \n",
              "64631  sentimental    Customer :Did you find anything great?\\nAgent :   \n",
              "64632  sentimental      Customer :What a wonderful memory.  \\nAgent :   \n",
              "64633    surprised  Customer :I woke up this morning to my wife te...   \n",
              "64634    surprised  Customer :It is soooo awesome.  We have been w...   \n",
              "64635    surprised  Customer :Oh hey that's awesome!  That is awes...   \n",
              "\n",
              "                                                  labels Unnamed: 5  \\\n",
              "0      Was this a friend you were in love with, or ju...        NaN   \n",
              "1                                    Where has she gone?        NaN   \n",
              "2      Oh was this something that happened because of...        NaN   \n",
              "3                    This was a best friend. I miss her.        NaN   \n",
              "4                                     We no longer talk.        NaN   \n",
              "...                                                  ...        ...   \n",
              "64631  Yeah I found some old pictures of when us kids...        NaN   \n",
              "64632  Yeah reminds me of the good old days.  I miss ...        NaN   \n",
              "64633     Oh hey that's awesome!  That is awesome right?        NaN   \n",
              "64634               That is awesome!!!! Congratulations!        NaN   \n",
              "64635  It is soooo awesome.  We have been wanting a b...        NaN   \n",
              "\n",
              "       Situation_encoded  empathetic_dialogues_encoded  labels_encoded  \n",
              "0                   7344                         18775           44645  \n",
              "1                   7344                         47388           48022  \n",
              "2                   7344                         48590           30866  \n",
              "3                   7344                         48244           43702  \n",
              "4                   7344                         51118           44957  \n",
              "...                  ...                           ...             ...  \n",
              "64631               4146                          3286           50365  \n",
              "64632               4146                         49704           50962  \n",
              "64633              10657                         23293           28839  \n",
              "64634              10657                         26705           36398  \n",
              "64635              10657                         35498           21729  \n",
              "\n",
              "[64636 rows x 9 columns]"
            ],
            "text/html": [
              "\n",
              "  <div id=\"df-d645ff73-ca50-47ac-bcaf-1430b7b2c8f6\" class=\"colab-df-container\">\n",
              "    <div>\n",
              "<style scoped>\n",
              "    .dataframe tbody tr th:only-of-type {\n",
              "        vertical-align: middle;\n",
              "    }\n",
              "\n",
              "    .dataframe tbody tr th {\n",
              "        vertical-align: top;\n",
              "    }\n",
              "\n",
              "    .dataframe thead th {\n",
              "        text-align: right;\n",
              "    }\n",
              "</style>\n",
              "<table border=\"1\" class=\"dataframe\">\n",
              "  <thead>\n",
              "    <tr style=\"text-align: right;\">\n",
              "      <th></th>\n",
              "      <th>Unnamed: 0</th>\n",
              "      <th>Situation</th>\n",
              "      <th>emotion</th>\n",
              "      <th>empathetic_dialogues</th>\n",
              "      <th>labels</th>\n",
              "      <th>Unnamed: 5</th>\n",
              "      <th>Situation_encoded</th>\n",
              "      <th>empathetic_dialogues_encoded</th>\n",
              "      <th>labels_encoded</th>\n",
              "    </tr>\n",
              "  </thead>\n",
              "  <tbody>\n",
              "    <tr>\n",
              "      <th>0</th>\n",
              "      <td>0</td>\n",
              "      <td>I remember going to the fireworks with my best...</td>\n",
              "      <td>sentimental</td>\n",
              "      <td>Customer :I remember going to see the firework...</td>\n",
              "      <td>Was this a friend you were in love with, or ju...</td>\n",
              "      <td>NaN</td>\n",
              "      <td>7344</td>\n",
              "      <td>18775</td>\n",
              "      <td>44645</td>\n",
              "    </tr>\n",
              "    <tr>\n",
              "      <th>1</th>\n",
              "      <td>1</td>\n",
              "      <td>I remember going to the fireworks with my best...</td>\n",
              "      <td>sentimental</td>\n",
              "      <td>Customer :This was a best friend. I miss her.\\...</td>\n",
              "      <td>Where has she gone?</td>\n",
              "      <td>NaN</td>\n",
              "      <td>7344</td>\n",
              "      <td>47388</td>\n",
              "      <td>48022</td>\n",
              "    </tr>\n",
              "    <tr>\n",
              "      <th>2</th>\n",
              "      <td>2</td>\n",
              "      <td>I remember going to the fireworks with my best...</td>\n",
              "      <td>sentimental</td>\n",
              "      <td>Customer :We no longer talk.\\nAgent :</td>\n",
              "      <td>Oh was this something that happened because of...</td>\n",
              "      <td>NaN</td>\n",
              "      <td>7344</td>\n",
              "      <td>48590</td>\n",
              "      <td>30866</td>\n",
              "    </tr>\n",
              "    <tr>\n",
              "      <th>3</th>\n",
              "      <td>3</td>\n",
              "      <td>I remember going to the fireworks with my best...</td>\n",
              "      <td>sentimental</td>\n",
              "      <td>Customer :Was this a friend you were in love w...</td>\n",
              "      <td>This was a best friend. I miss her.</td>\n",
              "      <td>NaN</td>\n",
              "      <td>7344</td>\n",
              "      <td>48244</td>\n",
              "      <td>43702</td>\n",
              "    </tr>\n",
              "    <tr>\n",
              "      <th>4</th>\n",
              "      <td>4</td>\n",
              "      <td>I remember going to the fireworks with my best...</td>\n",
              "      <td>sentimental</td>\n",
              "      <td>Customer :Where has she gone?\\nAgent :</td>\n",
              "      <td>We no longer talk.</td>\n",
              "      <td>NaN</td>\n",
              "      <td>7344</td>\n",
              "      <td>51118</td>\n",
              "      <td>44957</td>\n",
              "    </tr>\n",
              "    <tr>\n",
              "      <th>...</th>\n",
              "      <td>...</td>\n",
              "      <td>...</td>\n",
              "      <td>...</td>\n",
              "      <td>...</td>\n",
              "      <td>...</td>\n",
              "      <td>...</td>\n",
              "      <td>...</td>\n",
              "      <td>...</td>\n",
              "      <td>...</td>\n",
              "    </tr>\n",
              "    <tr>\n",
              "      <th>64631</th>\n",
              "      <td>64631</td>\n",
              "      <td>I found some pictures of my grandma in the att...</td>\n",
              "      <td>sentimental</td>\n",
              "      <td>Customer :Did you find anything great?\\nAgent :</td>\n",
              "      <td>Yeah I found some old pictures of when us kids...</td>\n",
              "      <td>NaN</td>\n",
              "      <td>4146</td>\n",
              "      <td>3286</td>\n",
              "      <td>50365</td>\n",
              "    </tr>\n",
              "    <tr>\n",
              "      <th>64632</th>\n",
              "      <td>64632</td>\n",
              "      <td>I found some pictures of my grandma in the att...</td>\n",
              "      <td>sentimental</td>\n",
              "      <td>Customer :What a wonderful memory.  \\nAgent :</td>\n",
              "      <td>Yeah reminds me of the good old days.  I miss ...</td>\n",
              "      <td>NaN</td>\n",
              "      <td>4146</td>\n",
              "      <td>49704</td>\n",
              "      <td>50962</td>\n",
              "    </tr>\n",
              "    <tr>\n",
              "      <th>64633</th>\n",
              "      <td>64633</td>\n",
              "      <td>I woke up this morning to my wife telling me s...</td>\n",
              "      <td>surprised</td>\n",
              "      <td>Customer :I woke up this morning to my wife te...</td>\n",
              "      <td>Oh hey that's awesome!  That is awesome right?</td>\n",
              "      <td>NaN</td>\n",
              "      <td>10657</td>\n",
              "      <td>23293</td>\n",
              "      <td>28839</td>\n",
              "    </tr>\n",
              "    <tr>\n",
              "      <th>64634</th>\n",
              "      <td>64634</td>\n",
              "      <td>I woke up this morning to my wife telling me s...</td>\n",
              "      <td>surprised</td>\n",
              "      <td>Customer :It is soooo awesome.  We have been w...</td>\n",
              "      <td>That is awesome!!!! Congratulations!</td>\n",
              "      <td>NaN</td>\n",
              "      <td>10657</td>\n",
              "      <td>26705</td>\n",
              "      <td>36398</td>\n",
              "    </tr>\n",
              "    <tr>\n",
              "      <th>64635</th>\n",
              "      <td>64635</td>\n",
              "      <td>I woke up this morning to my wife telling me s...</td>\n",
              "      <td>surprised</td>\n",
              "      <td>Customer :Oh hey that's awesome!  That is awes...</td>\n",
              "      <td>It is soooo awesome.  We have been wanting a b...</td>\n",
              "      <td>NaN</td>\n",
              "      <td>10657</td>\n",
              "      <td>35498</td>\n",
              "      <td>21729</td>\n",
              "    </tr>\n",
              "  </tbody>\n",
              "</table>\n",
              "<p>64636 rows × 9 columns</p>\n",
              "</div>\n",
              "    <div class=\"colab-df-buttons\">\n",
              "\n",
              "  <div class=\"colab-df-container\">\n",
              "    <button class=\"colab-df-convert\" onclick=\"convertToInteractive('df-d645ff73-ca50-47ac-bcaf-1430b7b2c8f6')\"\n",
              "            title=\"Convert this dataframe to an interactive table.\"\n",
              "            style=\"display:none;\">\n",
              "\n",
              "  <svg xmlns=\"http://www.w3.org/2000/svg\" height=\"24px\" viewBox=\"0 -960 960 960\">\n",
              "    <path d=\"M120-120v-720h720v720H120Zm60-500h600v-160H180v160Zm220 220h160v-160H400v160Zm0 220h160v-160H400v160ZM180-400h160v-160H180v160Zm440 0h160v-160H620v160ZM180-180h160v-160H180v160Zm440 0h160v-160H620v160Z\"/>\n",
              "  </svg>\n",
              "    </button>\n",
              "\n",
              "  <style>\n",
              "    .colab-df-container {\n",
              "      display:flex;\n",
              "      gap: 12px;\n",
              "    }\n",
              "\n",
              "    .colab-df-convert {\n",
              "      background-color: #E8F0FE;\n",
              "      border: none;\n",
              "      border-radius: 50%;\n",
              "      cursor: pointer;\n",
              "      display: none;\n",
              "      fill: #1967D2;\n",
              "      height: 32px;\n",
              "      padding: 0 0 0 0;\n",
              "      width: 32px;\n",
              "    }\n",
              "\n",
              "    .colab-df-convert:hover {\n",
              "      background-color: #E2EBFA;\n",
              "      box-shadow: 0px 1px 2px rgba(60, 64, 67, 0.3), 0px 1px 3px 1px rgba(60, 64, 67, 0.15);\n",
              "      fill: #174EA6;\n",
              "    }\n",
              "\n",
              "    .colab-df-buttons div {\n",
              "      margin-bottom: 4px;\n",
              "    }\n",
              "\n",
              "    [theme=dark] .colab-df-convert {\n",
              "      background-color: #3B4455;\n",
              "      fill: #D2E3FC;\n",
              "    }\n",
              "\n",
              "    [theme=dark] .colab-df-convert:hover {\n",
              "      background-color: #434B5C;\n",
              "      box-shadow: 0px 1px 3px 1px rgba(0, 0, 0, 0.15);\n",
              "      filter: drop-shadow(0px 1px 2px rgba(0, 0, 0, 0.3));\n",
              "      fill: #FFFFFF;\n",
              "    }\n",
              "  </style>\n",
              "\n",
              "    <script>\n",
              "      const buttonEl =\n",
              "        document.querySelector('#df-d645ff73-ca50-47ac-bcaf-1430b7b2c8f6 button.colab-df-convert');\n",
              "      buttonEl.style.display =\n",
              "        google.colab.kernel.accessAllowed ? 'block' : 'none';\n",
              "\n",
              "      async function convertToInteractive(key) {\n",
              "        const element = document.querySelector('#df-d645ff73-ca50-47ac-bcaf-1430b7b2c8f6');\n",
              "        const dataTable =\n",
              "          await google.colab.kernel.invokeFunction('convertToInteractive',\n",
              "                                                    [key], {});\n",
              "        if (!dataTable) return;\n",
              "\n",
              "        const docLinkHtml = 'Like what you see? Visit the ' +\n",
              "          '<a target=\"_blank\" href=https://colab.research.google.com/notebooks/data_table.ipynb>data table notebook</a>'\n",
              "          + ' to learn more about interactive tables.';\n",
              "        element.innerHTML = '';\n",
              "        dataTable['output_type'] = 'display_data';\n",
              "        await google.colab.output.renderOutput(dataTable, element);\n",
              "        const docLink = document.createElement('div');\n",
              "        docLink.innerHTML = docLinkHtml;\n",
              "        element.appendChild(docLink);\n",
              "      }\n",
              "    </script>\n",
              "  </div>\n",
              "\n",
              "\n",
              "<div id=\"df-85b5e3ae-38cf-4884-8fc6-1ac8b311ae3b\">\n",
              "  <button class=\"colab-df-quickchart\" onclick=\"quickchart('df-85b5e3ae-38cf-4884-8fc6-1ac8b311ae3b')\"\n",
              "            title=\"Suggest charts\"\n",
              "            style=\"display:none;\">\n",
              "\n",
              "<svg xmlns=\"http://www.w3.org/2000/svg\" height=\"24px\"viewBox=\"0 0 24 24\"\n",
              "     width=\"24px\">\n",
              "    <g>\n",
              "        <path d=\"M19 3H5c-1.1 0-2 .9-2 2v14c0 1.1.9 2 2 2h14c1.1 0 2-.9 2-2V5c0-1.1-.9-2-2-2zM9 17H7v-7h2v7zm4 0h-2V7h2v10zm4 0h-2v-4h2v4z\"/>\n",
              "    </g>\n",
              "</svg>\n",
              "  </button>\n",
              "\n",
              "<style>\n",
              "  .colab-df-quickchart {\n",
              "      --bg-color: #E8F0FE;\n",
              "      --fill-color: #1967D2;\n",
              "      --hover-bg-color: #E2EBFA;\n",
              "      --hover-fill-color: #174EA6;\n",
              "      --disabled-fill-color: #AAA;\n",
              "      --disabled-bg-color: #DDD;\n",
              "  }\n",
              "\n",
              "  [theme=dark] .colab-df-quickchart {\n",
              "      --bg-color: #3B4455;\n",
              "      --fill-color: #D2E3FC;\n",
              "      --hover-bg-color: #434B5C;\n",
              "      --hover-fill-color: #FFFFFF;\n",
              "      --disabled-bg-color: #3B4455;\n",
              "      --disabled-fill-color: #666;\n",
              "  }\n",
              "\n",
              "  .colab-df-quickchart {\n",
              "    background-color: var(--bg-color);\n",
              "    border: none;\n",
              "    border-radius: 50%;\n",
              "    cursor: pointer;\n",
              "    display: none;\n",
              "    fill: var(--fill-color);\n",
              "    height: 32px;\n",
              "    padding: 0;\n",
              "    width: 32px;\n",
              "  }\n",
              "\n",
              "  .colab-df-quickchart:hover {\n",
              "    background-color: var(--hover-bg-color);\n",
              "    box-shadow: 0 1px 2px rgba(60, 64, 67, 0.3), 0 1px 3px 1px rgba(60, 64, 67, 0.15);\n",
              "    fill: var(--button-hover-fill-color);\n",
              "  }\n",
              "\n",
              "  .colab-df-quickchart-complete:disabled,\n",
              "  .colab-df-quickchart-complete:disabled:hover {\n",
              "    background-color: var(--disabled-bg-color);\n",
              "    fill: var(--disabled-fill-color);\n",
              "    box-shadow: none;\n",
              "  }\n",
              "\n",
              "  .colab-df-spinner {\n",
              "    border: 2px solid var(--fill-color);\n",
              "    border-color: transparent;\n",
              "    border-bottom-color: var(--fill-color);\n",
              "    animation:\n",
              "      spin 1s steps(1) infinite;\n",
              "  }\n",
              "\n",
              "  @keyframes spin {\n",
              "    0% {\n",
              "      border-color: transparent;\n",
              "      border-bottom-color: var(--fill-color);\n",
              "      border-left-color: var(--fill-color);\n",
              "    }\n",
              "    20% {\n",
              "      border-color: transparent;\n",
              "      border-left-color: var(--fill-color);\n",
              "      border-top-color: var(--fill-color);\n",
              "    }\n",
              "    30% {\n",
              "      border-color: transparent;\n",
              "      border-left-color: var(--fill-color);\n",
              "      border-top-color: var(--fill-color);\n",
              "      border-right-color: var(--fill-color);\n",
              "    }\n",
              "    40% {\n",
              "      border-color: transparent;\n",
              "      border-right-color: var(--fill-color);\n",
              "      border-top-color: var(--fill-color);\n",
              "    }\n",
              "    60% {\n",
              "      border-color: transparent;\n",
              "      border-right-color: var(--fill-color);\n",
              "    }\n",
              "    80% {\n",
              "      border-color: transparent;\n",
              "      border-right-color: var(--fill-color);\n",
              "      border-bottom-color: var(--fill-color);\n",
              "    }\n",
              "    90% {\n",
              "      border-color: transparent;\n",
              "      border-bottom-color: var(--fill-color);\n",
              "    }\n",
              "  }\n",
              "</style>\n",
              "\n",
              "  <script>\n",
              "    async function quickchart(key) {\n",
              "      const quickchartButtonEl =\n",
              "        document.querySelector('#' + key + ' button');\n",
              "      quickchartButtonEl.disabled = true;  // To prevent multiple clicks.\n",
              "      quickchartButtonEl.classList.add('colab-df-spinner');\n",
              "      try {\n",
              "        const charts = await google.colab.kernel.invokeFunction(\n",
              "            'suggestCharts', [key], {});\n",
              "      } catch (error) {\n",
              "        console.error('Error during call to suggestCharts:', error);\n",
              "      }\n",
              "      quickchartButtonEl.classList.remove('colab-df-spinner');\n",
              "      quickchartButtonEl.classList.add('colab-df-quickchart-complete');\n",
              "    }\n",
              "    (() => {\n",
              "      let quickchartButtonEl =\n",
              "        document.querySelector('#df-85b5e3ae-38cf-4884-8fc6-1ac8b311ae3b button');\n",
              "      quickchartButtonEl.style.display =\n",
              "        google.colab.kernel.accessAllowed ? 'block' : 'none';\n",
              "    })();\n",
              "  </script>\n",
              "</div>\n",
              "    </div>\n",
              "  </div>\n"
            ],
            "application/vnd.google.colaboratory.intrinsic+json": {
              "type": "dataframe",
              "variable_name": "df",
              "summary": "{\n  \"name\": \"df\",\n  \"rows\": 64636,\n  \"fields\": [\n    {\n      \"column\": \"Unnamed: 0\",\n      \"properties\": {\n        \"dtype\": \"number\",\n        \"std\": 18658,\n        \"min\": 0,\n        \"max\": 64635,\n        \"num_unique_values\": 64636,\n        \"samples\": [\n          37054,\n          15618,\n          44316\n        ],\n        \"semantic_type\": \"\",\n        \"description\": \"\"\n      }\n    },\n    {\n      \"column\": \"Situation\",\n      \"properties\": {\n        \"dtype\": \"category\",\n        \"num_unique_values\": 19199,\n        \"samples\": [\n          \"I tried so hard to get a 34 on the ACT for a scholarship. Instead I got a 33 twice...\",\n          \"I just talked to my kid's pre-k teacher. They already know each other. I can't wait\",\n          \"My husband had to go out of town for work. He will be gone for 2 months. I don't know what I will do.\"\n        ],\n        \"semantic_type\": \"\",\n        \"description\": \"\"\n      }\n    },\n    {\n      \"column\": \"emotion\",\n      \"properties\": {\n        \"dtype\": \"category\",\n        \"num_unique_values\": 32,\n        \"samples\": [\n          \"impressed\",\n          \"ashamed\",\n          \"disgusted\"\n        ],\n        \"semantic_type\": \"\",\n        \"description\": \"\"\n      }\n    },\n    {\n      \"column\": \"empathetic_dialogues\",\n      \"properties\": {\n        \"dtype\": \"string\",\n        \"num_unique_values\": 63379,\n        \"samples\": [\n          \"Customer :I went to visit my sister who goes to college, and we ate at a soul food/southern style place. It was so crowded and loud, but when we sat down to order I was really surprised.  The food was really good, and super cheap for the portions we got.\\nAgent :\",\n          \"Customer :I was visiting my parents over the holiday. One night I decided to drive in front of our old home I grew up in. It still looked the same. It was nice to see it again.\\nAgent :\",\n          \"Customer :That's awesome! Nothing like freeing up your budget with no car payment.\\nAgent :\"\n        ],\n        \"semantic_type\": \"\",\n        \"description\": \"\"\n      }\n    },\n    {\n      \"column\": \"labels\",\n      \"properties\": {\n        \"dtype\": \"string\",\n        \"num_unique_values\": 63164,\n        \"samples\": [\n          \"No, this is the first time happening. I can't grasp how he dared to act in this way\",\n          \"Oh yeah, you must be a brilliant student\",\n          \"I hope they weren't expensive shoes.\"\n        ],\n        \"semantic_type\": \"\",\n        \"description\": \"\"\n      }\n    },\n    {\n      \"column\": \"Unnamed: 5\",\n      \"properties\": {\n        \"dtype\": \"category\",\n        \"num_unique_values\": 47,\n        \"samples\": [\n          \"make her jealous)\",\n          \"a watch with sentimental value is priceless.\",\n          \"Who and why?\"\n        ],\n        \"semantic_type\": \"\",\n        \"description\": \"\"\n      }\n    },\n    {\n      \"column\": \"Situation_encoded\",\n      \"properties\": {\n        \"dtype\": \"number\",\n        \"std\": 5581,\n        \"min\": 0,\n        \"max\": 19198,\n        \"num_unique_values\": 19199,\n        \"samples\": [\n          8237,\n          5990,\n          13996\n        ],\n        \"semantic_type\": \"\",\n        \"description\": \"\"\n      }\n    },\n    {\n      \"column\": \"empathetic_dialogues_encoded\",\n      \"properties\": {\n        \"dtype\": \"number\",\n        \"std\": 18366,\n        \"min\": 0,\n        \"max\": 63378,\n        \"num_unique_values\": 63379,\n        \"samples\": [\n          23035,\n          22467,\n          44185\n        ],\n        \"semantic_type\": \"\",\n        \"description\": \"\"\n      }\n    },\n    {\n      \"column\": \"labels_encoded\",\n      \"properties\": {\n        \"dtype\": \"number\",\n        \"std\": 18285,\n        \"min\": 0,\n        \"max\": 63163,\n        \"num_unique_values\": 63164,\n        \"samples\": [\n          27457,\n          31417,\n          13947\n        ],\n        \"semantic_type\": \"\",\n        \"description\": \"\"\n      }\n    }\n  ]\n}"
            }
          },
          "metadata": {},
          "execution_count": 10
        }
      ]
    },
    {
      "cell_type": "code",
      "source": [
        "# import sklearn libraries\n",
        "from sklearn.model_selection import train_test_split\n",
        "from sklearn.ensemble import RandomForestClassifier\n",
        "from sklearn.metrics import accuracy_score\n",
        "from sklearn.preprocessing import LabelEncoder\n",
        "\n",
        "# categorize columns\n",
        "le_situation = LabelEncoder()\n",
        "le_empathetic_dialogues = LabelEncoder()\n",
        "le_labels = LabelEncoder()\n",
        "\n",
        "df['Situation_encoded'] = le_situation.fit_transform(df['Situation'])\n",
        "df['empathetic_dialogues_encoded'] = le_empathetic_dialogues.fit_transform(df['empathetic_dialogues'])\n",
        "df['labels_encoded'] = le_labels.fit_transform(df['labels'])\n",
        "\n",
        "# assign independent and dependent variables\n",
        "X = df[['Situation_encoded', 'empathetic_dialogues_encoded', 'labels_encoded']]\n",
        "y = df['emotion']\n",
        "\n",
        "# split model 80/20%\n",
        "X_train, X_test, y_train, y_test = train_test_split(X, y, test_size=0.2, random_state=42)\n",
        "\n",
        "# run model\n",
        "model = RandomForestClassifier(random_state=42)\n",
        "model.fit(X_train, y_train)\n",
        "\n",
        "# output accuracy score\n",
        "y_pred = model.predict(X_test)\n",
        "accuracy = accuracy_score(y_test, y_pred)\n",
        "print(f'Accuracy: {accuracy}')\n"
      ],
      "metadata": {
        "colab": {
          "base_uri": "https://localhost:8080/"
        },
        "id": "FGiedLJd7QQo",
        "outputId": "6a0fcc78-105f-4a2c-93f4-b92fed94768f"
      },
      "execution_count": 11,
      "outputs": [
        {
          "output_type": "stream",
          "name": "stdout",
          "text": [
            "Accuracy: 0.14719987623762376\n"
          ]
        }
      ]
    },
    {
      "cell_type": "code",
      "source": [
        "df['Situation'][1]"
      ],
      "metadata": {
        "colab": {
          "base_uri": "https://localhost:8080/",
          "height": 35
        },
        "id": "INceF_lC9lqO",
        "outputId": "810c7994-c9d2-419c-dc4d-f298240d5deb"
      },
      "execution_count": 6,
      "outputs": [
        {
          "output_type": "execute_result",
          "data": {
            "text/plain": [
              "'I remember going to the fireworks with my best friend. There was a lot of people, but it only felt like us in the world.'"
            ],
            "application/vnd.google.colaboratory.intrinsic+json": {
              "type": "string"
            }
          },
          "metadata": {},
          "execution_count": 6
        }
      ]
    },
    {
      "cell_type": "code",
      "source": [
        "df['empathetic_dialogues'][1]"
      ],
      "metadata": {
        "colab": {
          "base_uri": "https://localhost:8080/",
          "height": 35
        },
        "id": "YyPAnaV0DdDI",
        "outputId": "fa0da663-d3ae-4b72-8f9e-7519b29fdbcd"
      },
      "execution_count": 7,
      "outputs": [
        {
          "output_type": "execute_result",
          "data": {
            "text/plain": [
              "'Customer :This was a best friend. I miss her.\\nAgent :'"
            ],
            "application/vnd.google.colaboratory.intrinsic+json": {
              "type": "string"
            }
          },
          "metadata": {},
          "execution_count": 7
        }
      ]
    },
    {
      "cell_type": "code",
      "source": [
        "df['labels'][1]"
      ],
      "metadata": {
        "colab": {
          "base_uri": "https://localhost:8080/",
          "height": 35
        },
        "id": "o-ixV3iNDdFm",
        "outputId": "ae0a622f-b23e-4d66-cb4a-9f7df123dcea"
      },
      "execution_count": 8,
      "outputs": [
        {
          "output_type": "execute_result",
          "data": {
            "text/plain": [
              "'Where has she gone?'"
            ],
            "application/vnd.google.colaboratory.intrinsic+json": {
              "type": "string"
            }
          },
          "metadata": {},
          "execution_count": 8
        }
      ]
    },
    {
      "cell_type": "code",
      "source": [
        "# imports\n",
        "from sklearn.model_selection import train_test_split\n",
        "from sklearn.feature_extraction.text import TfidfVectorizer\n",
        "from sklearn.tree import DecisionTreeClassifier\n",
        "from sklearn.pipeline import make_pipeline\n",
        "from sklearn.metrics import accuracy_score\n",
        "\n",
        "# To speed things up I determined that Situation is the best to use for this\n",
        "X_train, X_test, y_train, y_test = train_test_split(df['Situation'], df['emotion'], test_size=0.2, random_state=42)\n",
        "\n",
        "# Create a basic pipeline that vectorizes the text and then applies a decision tree classifier\n",
        "model = make_pipeline(TfidfVectorizer(), DecisionTreeClassifier())\n",
        "\n",
        "# Train the model\n",
        "model.fit(X_train, y_train)\n",
        "\n",
        "# Predict the emotions on the test set\n",
        "y_pred = model.predict(X_test)\n",
        "\n",
        "# Calculate the accuracy of the model\n",
        "accuracy = accuracy_score(y_test, y_pred)\n",
        "print(f'Accuracy: {accuracy}')\n"
      ],
      "metadata": {
        "colab": {
          "base_uri": "https://localhost:8080/"
        },
        "id": "B3y9ngkj_FbA",
        "outputId": "eb7eee62-eb77-495b-fadd-89f675c1aba2"
      },
      "execution_count": 9,
      "outputs": [
        {
          "output_type": "stream",
          "name": "stdout",
          "text": [
            "Accuracy: 0.9647277227722773\n"
          ]
        }
      ]
    },
    {
      "cell_type": "code",
      "source": [
        "import pandas as pd\n",
        "from sklearn.model_selection import train_test_split\n",
        "from sklearn.feature_extraction.text import TfidfVectorizer\n",
        "from sklearn.tree import DecisionTreeClassifier\n",
        "from sklearn.pipeline import make_pipeline\n",
        "from sklearn.metrics import accuracy_score\n",
        "\n",
        "df['combined_text'] = df['Situation'].astype(str) + ' ' + df['empathetic_dialogues'].astype(str) + ' ' + df['labels'].astype(str)\n",
        "\n",
        "X_train, X_test, y_train, y_test = train_test_split(df['combined_text'], df['emotion'], test_size=0.2, random_state=42)\n",
        "\n",
        "\n",
        "model = make_pipeline(TfidfVectorizer(), DecisionTreeClassifier())\n",
        "\n",
        "\n",
        "model.fit(X_train, y_train)\n",
        "\n",
        "\n",
        "y_pred = model.predict(X_test)\n",
        "\n",
        "\n",
        "accuracy = accuracy_score(y_test, y_pred)\n",
        "print(f'Accuracy: {accuracy}')\n"
      ],
      "metadata": {
        "colab": {
          "base_uri": "https://localhost:8080/"
        },
        "id": "15n4thvMCz7Y",
        "outputId": "f8720ba2-1539-4c1f-fc87-d0eff8949cc4"
      },
      "execution_count": 12,
      "outputs": [
        {
          "output_type": "stream",
          "name": "stdout",
          "text": [
            "Accuracy: 0.45939047029702973\n"
          ]
        }
      ]
    }
  ]
}